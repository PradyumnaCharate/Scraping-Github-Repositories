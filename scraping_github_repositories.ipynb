{
  "nbformat": 4,
  "nbformat_minor": 0,
  "metadata": {
    "colab": {
      "name": "scraping-github-repositories.ipynb",
      "provenance": [],
      "collapsed_sections": [],
      "authorship_tag": "ABX9TyPb82XmwVBfvD/MI5h/l24g",
      "include_colab_link": true
    },
    "kernelspec": {
      "name": "python3",
      "display_name": "Python 3"
    },
    "language_info": {
      "name": "python"
    }
  },
  "cells": [
    {
      "cell_type": "markdown",
      "metadata": {
        "id": "view-in-github",
        "colab_type": "text"
      },
      "source": [
        "<a href=\"https://colab.research.google.com/github/PradyumnaCharate/Scraping-Github-Repositories/blob/main/scraping_github_repositories.ipynb\" target=\"_parent\"><img src=\"https://colab.research.google.com/assets/colab-badge.svg\" alt=\"Open In Colab\"/></a>"
      ]
    },
    {
      "cell_type": "markdown",
      "metadata": {
        "id": "dcMReKQGLZqX"
      },
      "source": [
        "#Top repositories for Github Topics"
      ]
    },
    {
      "cell_type": "markdown",
      "metadata": {
        "id": "KMgpeIcbNMRk"
      },
      "source": [
        "#Using Requests library to download webpages."
      ]
    },
    {
      "cell_type": "markdown",
      "metadata": {
        "id": "qXXQxsbJNxmh"
      },
      "source": [
        "1.We are gonna scrape https://github.com/topics\n",
        "\n",
        "2.We will get a list of topics.For each topic we will get topic title,Topic Url\n",
        " and topic description\n",
        "\n",
        "3.For each topic we will get top 25 repositories from topic page\n",
        "\n",
        "4.For each repository we will grab the repo name,username,stars and repo URL.  "
      ]
    },
    {
      "cell_type": "code",
      "metadata": {
        "id": "O9u9RknKRrQK",
        "colab": {
          "base_uri": "https://localhost:8080/"
        },
        "outputId": "354b4012-6169-4ee7-e2bf-d0f7bd025397"
      },
      "source": [
        "!pip install requests --upgrade --quiet "
      ],
      "execution_count": null,
      "outputs": [
        {
          "output_type": "stream",
          "name": "stdout",
          "text": [
            "\u001b[?25l\r\u001b[K     |█████▎                          | 10 kB 28.2 MB/s eta 0:00:01\r\u001b[K     |██████████▌                     | 20 kB 29.3 MB/s eta 0:00:01\r\u001b[K     |███████████████▉                | 30 kB 13.1 MB/s eta 0:00:01\r\u001b[K     |█████████████████████           | 40 kB 10.3 MB/s eta 0:00:01\r\u001b[K     |██████████████████████████▎     | 51 kB 9.2 MB/s eta 0:00:01\r\u001b[K     |███████████████████████████████▋| 61 kB 9.5 MB/s eta 0:00:01\r\u001b[K     |████████████████████████████████| 62 kB 956 kB/s \n",
            "\u001b[31mERROR: pip's dependency resolver does not currently take into account all the packages that are installed. This behaviour is the source of the following dependency conflicts.\n",
            "google-colab 1.0.0 requires requests~=2.23.0, but you have requests 2.26.0 which is incompatible.\n",
            "datascience 0.10.6 requires folium==0.2.1, but you have folium 0.8.3 which is incompatible.\u001b[0m\n",
            "\u001b[?25h"
          ]
        }
      ]
    },
    {
      "cell_type": "code",
      "metadata": {
        "id": "khBbUdnGCg96"
      },
      "source": [
        "import requests,os"
      ],
      "execution_count": null,
      "outputs": []
    },
    {
      "cell_type": "code",
      "metadata": {
        "id": "6D0tvPb6SLCY"
      },
      "source": [
        "topic_url=\"https://github.com/topics\""
      ],
      "execution_count": null,
      "outputs": []
    },
    {
      "cell_type": "code",
      "metadata": {
        "id": "WdgeXS1USQXo"
      },
      "source": [
        "response=requests.get(topic_url)"
      ],
      "execution_count": null,
      "outputs": []
    },
    {
      "cell_type": "code",
      "metadata": {
        "colab": {
          "base_uri": "https://localhost:8080/"
        },
        "id": "hxwC9SylSYfx",
        "outputId": "e7d7316c-01ed-4508-ad70-43a6832767a8"
      },
      "source": [
        "response.status_code"
      ],
      "execution_count": null,
      "outputs": [
        {
          "output_type": "execute_result",
          "data": {
            "text/plain": [
              "200"
            ]
          },
          "metadata": {},
          "execution_count": 5
        }
      ]
    },
    {
      "cell_type": "markdown",
      "metadata": {
        "id": "MFdv8xASSix4"
      },
      "source": [
        "Requests will give you 2 elements.Success or status code and content of page.\n",
        "If status code is between 200 to 299 then it is success."
      ]
    },
    {
      "cell_type": "code",
      "metadata": {
        "colab": {
          "base_uri": "https://localhost:8080/"
        },
        "id": "-TBrMIPFS1sQ",
        "outputId": "1117cc1e-8d33-4249-c223-f0f9d770e7f9"
      },
      "source": [
        "len(response.text)"
      ],
      "execution_count": null,
      "outputs": [
        {
          "output_type": "execute_result",
          "data": {
            "text/plain": [
              "141826"
            ]
          },
          "metadata": {},
          "execution_count": 6
        }
      ]
    },
    {
      "cell_type": "code",
      "metadata": {
        "id": "lh6-2RFIY1yQ"
      },
      "source": [
        "page_contents=response.text"
      ],
      "execution_count": null,
      "outputs": []
    },
    {
      "cell_type": "markdown",
      "metadata": {
        "id": "LcfRJHVJTdIo"
      },
      "source": [
        "We can save these to our html file and edit it further."
      ]
    },
    {
      "cell_type": "code",
      "metadata": {
        "id": "HqB9Li_cTge4"
      },
      "source": [
        "with open(\"github topics.html\",\"w\") as f:\n",
        "  f.write(response.text)"
      ],
      "execution_count": null,
      "outputs": []
    },
    {
      "cell_type": "code",
      "metadata": {
        "colab": {
          "base_uri": "https://localhost:8080/"
        },
        "id": "TcCVwtF3UdAp",
        "outputId": "e5c73787-5649-40ed-c482-2f3f876efefb"
      },
      "source": [
        "!pip install beautifulsoup4 --upgrade --quiet "
      ],
      "execution_count": null,
      "outputs": [
        {
          "output_type": "stream",
          "name": "stdout",
          "text": [
            "\u001b[?25l\r\u001b[K     |███▍                            | 10 kB 21.7 MB/s eta 0:00:01\r\u001b[K     |██████▊                         | 20 kB 18.5 MB/s eta 0:00:01\r\u001b[K     |██████████                      | 30 kB 18.3 MB/s eta 0:00:01\r\u001b[K     |█████████████▌                  | 40 kB 12.4 MB/s eta 0:00:01\r\u001b[K     |████████████████▉               | 51 kB 5.6 MB/s eta 0:00:01\r\u001b[K     |████████████████████▏           | 61 kB 6.0 MB/s eta 0:00:01\r\u001b[K     |███████████████████████▌        | 71 kB 5.5 MB/s eta 0:00:01\r\u001b[K     |███████████████████████████     | 81 kB 6.1 MB/s eta 0:00:01\r\u001b[K     |██████████████████████████████▎ | 92 kB 5.9 MB/s eta 0:00:01\r\u001b[K     |████████████████████████████████| 97 kB 2.4 MB/s \n",
            "\u001b[?25h"
          ]
        }
      ]
    },
    {
      "cell_type": "code",
      "metadata": {
        "id": "bXzSdXPqVvrB"
      },
      "source": [
        "from bs4 import BeautifulSoup"
      ],
      "execution_count": null,
      "outputs": []
    },
    {
      "cell_type": "code",
      "metadata": {
        "id": "Z0ciL5t0V_fJ"
      },
      "source": [
        "doc=BeautifulSoup(page_contents,\"html.parser\")"
      ],
      "execution_count": null,
      "outputs": []
    },
    {
      "cell_type": "markdown",
      "metadata": {
        "id": "ijCYcoZQZBXQ"
      },
      "source": [
        "At github we have all topics in p tags.you can see that by inspecting on topic name."
      ]
    },
    {
      "cell_type": "code",
      "metadata": {
        "id": "XugeRF4kY6HA"
      },
      "source": [
        "p_tags=doc.find_all(\"p\")"
      ],
      "execution_count": null,
      "outputs": []
    },
    {
      "cell_type": "code",
      "metadata": {
        "colab": {
          "base_uri": "https://localhost:8080/"
        },
        "id": "T71PwuPkZ7eK",
        "outputId": "5b02888c-3499-4134-b25c-d7062df83948"
      },
      "source": [
        "len(p_tags)"
      ],
      "execution_count": null,
      "outputs": [
        {
          "output_type": "execute_result",
          "data": {
            "text/plain": [
              "67"
            ]
          },
          "metadata": {},
          "execution_count": 13
        }
      ]
    },
    {
      "cell_type": "markdown",
      "metadata": {
        "id": "Z1bvZ7exa8Kw"
      },
      "source": [
        "Here we got all p tags page has.But we can search with specific class.We can do this by specifying dictionary of attributes"
      ]
    },
    {
      "cell_type": "code",
      "metadata": {
        "id": "L5x2HZzhbSmx"
      },
      "source": [
        "selection_class=\"f3 lh-condensed mb-0 mt-1 Link--primary\"\n",
        "topic_title_p_tags=doc.find_all(\"p\",{\"class\":selection_class})"
      ],
      "execution_count": null,
      "outputs": []
    },
    {
      "cell_type": "code",
      "metadata": {
        "colab": {
          "base_uri": "https://localhost:8080/"
        },
        "id": "A3AtPgwgbt-x",
        "outputId": "4f16c8b8-656a-473f-d595-f4dc67079df8"
      },
      "source": [
        "topic_title_p_tags[:5]"
      ],
      "execution_count": null,
      "outputs": [
        {
          "output_type": "execute_result",
          "data": {
            "text/plain": [
              "[<p class=\"f3 lh-condensed mb-0 mt-1 Link--primary\">3D</p>,\n",
              " <p class=\"f3 lh-condensed mb-0 mt-1 Link--primary\">Ajax</p>,\n",
              " <p class=\"f3 lh-condensed mb-0 mt-1 Link--primary\">Algorithm</p>,\n",
              " <p class=\"f3 lh-condensed mb-0 mt-1 Link--primary\">Amp</p>,\n",
              " <p class=\"f3 lh-condensed mb-0 mt-1 Link--primary\">Android</p>]"
            ]
          },
          "metadata": {},
          "execution_count": 15
        }
      ]
    },
    {
      "cell_type": "code",
      "metadata": {
        "colab": {
          "base_uri": "https://localhost:8080/"
        },
        "id": "YQQq7WutcvYB",
        "outputId": "a113af02-1f13-4631-9383-398efdba153a"
      },
      "source": [
        "len(p_tags)"
      ],
      "execution_count": null,
      "outputs": [
        {
          "output_type": "execute_result",
          "data": {
            "text/plain": [
              "67"
            ]
          },
          "metadata": {},
          "execution_count": 16
        }
      ]
    },
    {
      "cell_type": "code",
      "metadata": {
        "id": "ixJ4h2irsWiA"
      },
      "source": [
        "desc_selection_class=\"f5 color-text-secondary mb-0 mt-1\"\n",
        "topic_desc_tags=doc.find_all(\"p\",{\"class\":desc_selection_class})"
      ],
      "execution_count": null,
      "outputs": []
    },
    {
      "cell_type": "code",
      "metadata": {
        "colab": {
          "base_uri": "https://localhost:8080/"
        },
        "id": "aiLYkOP-tjEk",
        "outputId": "928d936c-2e36-4472-facb-4b93db315877"
      },
      "source": [
        "len(topic_desc_tags)"
      ],
      "execution_count": null,
      "outputs": [
        {
          "output_type": "execute_result",
          "data": {
            "text/plain": [
              "30"
            ]
          },
          "metadata": {},
          "execution_count": 18
        }
      ]
    },
    {
      "cell_type": "code",
      "metadata": {
        "colab": {
          "base_uri": "https://localhost:8080/"
        },
        "id": "UcV1AveJtnQ0",
        "outputId": "daf9e519-a6ca-427a-ee25-646da8f9a01a"
      },
      "source": [
        "topic_desc_tags[:5]"
      ],
      "execution_count": null,
      "outputs": [
        {
          "output_type": "execute_result",
          "data": {
            "text/plain": [
              "[<p class=\"f5 color-text-secondary mb-0 mt-1\">\n",
              "               3D modeling is the process of virtually developing the surface and structure of a 3D object.\n",
              "             </p>, <p class=\"f5 color-text-secondary mb-0 mt-1\">\n",
              "               Ajax is a technique for creating interactive web applications.\n",
              "             </p>, <p class=\"f5 color-text-secondary mb-0 mt-1\">\n",
              "               Algorithms are self-contained sequences that carry out a variety of tasks.\n",
              "             </p>, <p class=\"f5 color-text-secondary mb-0 mt-1\">\n",
              "               Amp is a non-blocking concurrency framework for PHP.\n",
              "             </p>, <p class=\"f5 color-text-secondary mb-0 mt-1\">\n",
              "               Android is an operating system built by Google designed for mobile devices.\n",
              "             </p>]"
            ]
          },
          "metadata": {},
          "execution_count": 19
        }
      ]
    },
    {
      "cell_type": "code",
      "metadata": {
        "id": "xURDTECXt9G8"
      },
      "source": [
        "url_selection_class=\"d-flex no-underline\"\n",
        "topic_link_tags=doc.find_all(\"a\",{\"class\":url_selection_class})"
      ],
      "execution_count": null,
      "outputs": []
    },
    {
      "cell_type": "code",
      "metadata": {
        "colab": {
          "base_uri": "https://localhost:8080/"
        },
        "id": "lleAVa_BzsFd",
        "outputId": "c92f615c-3d82-4b6c-bf13-c96ccafcca05"
      },
      "source": [
        "len(topic_link_tags)"
      ],
      "execution_count": null,
      "outputs": [
        {
          "output_type": "execute_result",
          "data": {
            "text/plain": [
              "30"
            ]
          },
          "metadata": {},
          "execution_count": 21
        }
      ]
    },
    {
      "cell_type": "markdown",
      "metadata": {
        "id": "CNDCBWpnuI_f"
      },
      "source": [
        "If p tag is used in another p tag like here ..description tag is in topic tag.we can type .parent to get parent of tag.and children to get children of parent."
      ]
    },
    {
      "cell_type": "code",
      "metadata": {
        "colab": {
          "base_uri": "https://localhost:8080/"
        },
        "id": "O9sJY3kSxVx7",
        "outputId": "d9c80ddd-19ab-4afb-824c-97af7a683d16"
      },
      "source": [
        "topic_titles=[]\n",
        "\n",
        "for tag in topic_title_p_tags:\n",
        "  topic_titles.append(tag.text)\n",
        "print(topic_titles[25:])\n",
        "\n",
        "\n",
        "\n"
      ],
      "execution_count": null,
      "outputs": [
        {
          "output_type": "stream",
          "name": "stdout",
          "text": [
            "['Code review', 'Compiler', 'Continuous integration', 'COVID-19', 'C++']\n"
          ]
        }
      ]
    },
    {
      "cell_type": "code",
      "metadata": {
        "colab": {
          "base_uri": "https://localhost:8080/"
        },
        "id": "zTx-dslmyZWN",
        "outputId": "1cca484d-f12d-4f72-dfe1-b2815fa774d4"
      },
      "source": [
        "topic_descriptions=[]\n",
        "\n",
        "for tag in topic_desc_tags:\n",
        "  topic_descriptions.append(tag.text.strip())\n",
        "print(topic_descriptions[25:])\n"
      ],
      "execution_count": null,
      "outputs": [
        {
          "output_type": "stream",
          "name": "stdout",
          "text": [
            "['Ensure your code meets quality standards and ship with confidence.', 'Compilers are software that translate higher-level programming languages to lower-level languages (e.g. machine code).', 'Automatically build and test your code as you push it upstream, preventing bugs from being deployed to production.', 'The coronavirus disease 2019 (COVID-19) is an infectious disease caused by SARS-CoV-2.', 'C++ is a general purpose and object-oriented programming language.']\n"
          ]
        }
      ]
    },
    {
      "cell_type": "markdown",
      "metadata": {
        "id": "9vVcofX209nR"
      },
      "source": [
        "To access certain tag or element in particular tag we can use [certain tag name]"
      ]
    },
    {
      "cell_type": "code",
      "metadata": {
        "colab": {
          "base_uri": "https://localhost:8080/"
        },
        "id": "fcUQLErzzAJc",
        "outputId": "a6251f0c-72ec-455e-8df5-c210b304f52b"
      },
      "source": [
        "topic_urls=[]\n",
        "base_url=\"https://github.com\"\n",
        "for tag in topic_link_tags:\n",
        "  topic_urls.append(base_url+tag[\"href\"])\n",
        "topic_urls"
      ],
      "execution_count": null,
      "outputs": [
        {
          "output_type": "execute_result",
          "data": {
            "text/plain": [
              "['https://github.com/topics/3d',\n",
              " 'https://github.com/topics/ajax',\n",
              " 'https://github.com/topics/algorithm',\n",
              " 'https://github.com/topics/amphp',\n",
              " 'https://github.com/topics/android',\n",
              " 'https://github.com/topics/angular',\n",
              " 'https://github.com/topics/ansible',\n",
              " 'https://github.com/topics/api',\n",
              " 'https://github.com/topics/arduino',\n",
              " 'https://github.com/topics/aspnet',\n",
              " 'https://github.com/topics/atom',\n",
              " 'https://github.com/topics/awesome',\n",
              " 'https://github.com/topics/aws',\n",
              " 'https://github.com/topics/azure',\n",
              " 'https://github.com/topics/babel',\n",
              " 'https://github.com/topics/bash',\n",
              " 'https://github.com/topics/bitcoin',\n",
              " 'https://github.com/topics/bootstrap',\n",
              " 'https://github.com/topics/bot',\n",
              " 'https://github.com/topics/c',\n",
              " 'https://github.com/topics/chrome',\n",
              " 'https://github.com/topics/chrome-extension',\n",
              " 'https://github.com/topics/cli',\n",
              " 'https://github.com/topics/clojure',\n",
              " 'https://github.com/topics/code-quality',\n",
              " 'https://github.com/topics/code-review',\n",
              " 'https://github.com/topics/compiler',\n",
              " 'https://github.com/topics/continuous-integration',\n",
              " 'https://github.com/topics/covid-19',\n",
              " 'https://github.com/topics/cpp']"
            ]
          },
          "metadata": {},
          "execution_count": 24
        }
      ]
    },
    {
      "cell_type": "code",
      "metadata": {
        "id": "FcX30_sR2pmK"
      },
      "source": [
        "import pandas as pd"
      ],
      "execution_count": null,
      "outputs": []
    },
    {
      "cell_type": "code",
      "metadata": {
        "id": "be9k7UTC1VTE"
      },
      "source": [
        "topics_dict={\"Topic Title\":topic_titles,\n",
        "             \"Topic Description\":topic_descriptions,\n",
        "             \"Topic URL\":topic_urls}"
      ],
      "execution_count": null,
      "outputs": []
    },
    {
      "cell_type": "code",
      "metadata": {
        "id": "9M43tVHR2A2G"
      },
      "source": [
        "topics_df=pd.DataFrame(topics_dict)"
      ],
      "execution_count": null,
      "outputs": []
    },
    {
      "cell_type": "code",
      "metadata": {
        "colab": {
          "base_uri": "https://localhost:8080/",
          "height": 1000
        },
        "id": "R-pkhG6t2wgk",
        "outputId": "887920cb-44db-4a11-b728-27c3347183c0"
      },
      "source": [
        "topics_df"
      ],
      "execution_count": null,
      "outputs": [
        {
          "output_type": "execute_result",
          "data": {
            "text/html": [
              "<div>\n",
              "<style scoped>\n",
              "    .dataframe tbody tr th:only-of-type {\n",
              "        vertical-align: middle;\n",
              "    }\n",
              "\n",
              "    .dataframe tbody tr th {\n",
              "        vertical-align: top;\n",
              "    }\n",
              "\n",
              "    .dataframe thead th {\n",
              "        text-align: right;\n",
              "    }\n",
              "</style>\n",
              "<table border=\"1\" class=\"dataframe\">\n",
              "  <thead>\n",
              "    <tr style=\"text-align: right;\">\n",
              "      <th></th>\n",
              "      <th>Topic Title</th>\n",
              "      <th>Topic Description</th>\n",
              "      <th>Topic URL</th>\n",
              "    </tr>\n",
              "  </thead>\n",
              "  <tbody>\n",
              "    <tr>\n",
              "      <th>0</th>\n",
              "      <td>3D</td>\n",
              "      <td>3D modeling is the process of virtually develo...</td>\n",
              "      <td>https://github.com/topics/3d</td>\n",
              "    </tr>\n",
              "    <tr>\n",
              "      <th>1</th>\n",
              "      <td>Ajax</td>\n",
              "      <td>Ajax is a technique for creating interactive w...</td>\n",
              "      <td>https://github.com/topics/ajax</td>\n",
              "    </tr>\n",
              "    <tr>\n",
              "      <th>2</th>\n",
              "      <td>Algorithm</td>\n",
              "      <td>Algorithms are self-contained sequences that c...</td>\n",
              "      <td>https://github.com/topics/algorithm</td>\n",
              "    </tr>\n",
              "    <tr>\n",
              "      <th>3</th>\n",
              "      <td>Amp</td>\n",
              "      <td>Amp is a non-blocking concurrency framework fo...</td>\n",
              "      <td>https://github.com/topics/amphp</td>\n",
              "    </tr>\n",
              "    <tr>\n",
              "      <th>4</th>\n",
              "      <td>Android</td>\n",
              "      <td>Android is an operating system built by Google...</td>\n",
              "      <td>https://github.com/topics/android</td>\n",
              "    </tr>\n",
              "    <tr>\n",
              "      <th>5</th>\n",
              "      <td>Angular</td>\n",
              "      <td>Angular is an open source web application plat...</td>\n",
              "      <td>https://github.com/topics/angular</td>\n",
              "    </tr>\n",
              "    <tr>\n",
              "      <th>6</th>\n",
              "      <td>Ansible</td>\n",
              "      <td>Ansible is a simple and powerful automation en...</td>\n",
              "      <td>https://github.com/topics/ansible</td>\n",
              "    </tr>\n",
              "    <tr>\n",
              "      <th>7</th>\n",
              "      <td>API</td>\n",
              "      <td>An API (Application Programming Interface) is ...</td>\n",
              "      <td>https://github.com/topics/api</td>\n",
              "    </tr>\n",
              "    <tr>\n",
              "      <th>8</th>\n",
              "      <td>Arduino</td>\n",
              "      <td>Arduino is an open source hardware and softwar...</td>\n",
              "      <td>https://github.com/topics/arduino</td>\n",
              "    </tr>\n",
              "    <tr>\n",
              "      <th>9</th>\n",
              "      <td>ASP.NET</td>\n",
              "      <td>ASP.NET is a web framework for building modern...</td>\n",
              "      <td>https://github.com/topics/aspnet</td>\n",
              "    </tr>\n",
              "    <tr>\n",
              "      <th>10</th>\n",
              "      <td>Atom</td>\n",
              "      <td>Atom is a open source text editor built with w...</td>\n",
              "      <td>https://github.com/topics/atom</td>\n",
              "    </tr>\n",
              "    <tr>\n",
              "      <th>11</th>\n",
              "      <td>Awesome Lists</td>\n",
              "      <td>An awesome list is a list of awesome things cu...</td>\n",
              "      <td>https://github.com/topics/awesome</td>\n",
              "    </tr>\n",
              "    <tr>\n",
              "      <th>12</th>\n",
              "      <td>Amazon Web Services</td>\n",
              "      <td>Amazon Web Services provides on-demand cloud c...</td>\n",
              "      <td>https://github.com/topics/aws</td>\n",
              "    </tr>\n",
              "    <tr>\n",
              "      <th>13</th>\n",
              "      <td>Azure</td>\n",
              "      <td>Azure is a cloud computing service created by ...</td>\n",
              "      <td>https://github.com/topics/azure</td>\n",
              "    </tr>\n",
              "    <tr>\n",
              "      <th>14</th>\n",
              "      <td>Babel</td>\n",
              "      <td>Babel is a compiler for writing next generatio...</td>\n",
              "      <td>https://github.com/topics/babel</td>\n",
              "    </tr>\n",
              "    <tr>\n",
              "      <th>15</th>\n",
              "      <td>Bash</td>\n",
              "      <td>Bash is a shell and command language interpret...</td>\n",
              "      <td>https://github.com/topics/bash</td>\n",
              "    </tr>\n",
              "    <tr>\n",
              "      <th>16</th>\n",
              "      <td>Bitcoin</td>\n",
              "      <td>Bitcoin is a cryptocurrency developed by Satos...</td>\n",
              "      <td>https://github.com/topics/bitcoin</td>\n",
              "    </tr>\n",
              "    <tr>\n",
              "      <th>17</th>\n",
              "      <td>Bootstrap</td>\n",
              "      <td>Bootstrap is an HTML, CSS, and JavaScript fram...</td>\n",
              "      <td>https://github.com/topics/bootstrap</td>\n",
              "    </tr>\n",
              "    <tr>\n",
              "      <th>18</th>\n",
              "      <td>Bot</td>\n",
              "      <td>A bot is an application that runs automated ta...</td>\n",
              "      <td>https://github.com/topics/bot</td>\n",
              "    </tr>\n",
              "    <tr>\n",
              "      <th>19</th>\n",
              "      <td>C</td>\n",
              "      <td>C is a general purpose programming language th...</td>\n",
              "      <td>https://github.com/topics/c</td>\n",
              "    </tr>\n",
              "    <tr>\n",
              "      <th>20</th>\n",
              "      <td>Chrome</td>\n",
              "      <td>Chrome is a web browser from the tech company ...</td>\n",
              "      <td>https://github.com/topics/chrome</td>\n",
              "    </tr>\n",
              "    <tr>\n",
              "      <th>21</th>\n",
              "      <td>Chrome extension</td>\n",
              "      <td>Google Chrome Extensions are add-ons that allo...</td>\n",
              "      <td>https://github.com/topics/chrome-extension</td>\n",
              "    </tr>\n",
              "    <tr>\n",
              "      <th>22</th>\n",
              "      <td>Command line interface</td>\n",
              "      <td>A CLI, or command-line interface, is a console...</td>\n",
              "      <td>https://github.com/topics/cli</td>\n",
              "    </tr>\n",
              "    <tr>\n",
              "      <th>23</th>\n",
              "      <td>Clojure</td>\n",
              "      <td>Clojure is a dynamic, general-purpose programm...</td>\n",
              "      <td>https://github.com/topics/clojure</td>\n",
              "    </tr>\n",
              "    <tr>\n",
              "      <th>24</th>\n",
              "      <td>Code quality</td>\n",
              "      <td>Automate your code review with style, quality,...</td>\n",
              "      <td>https://github.com/topics/code-quality</td>\n",
              "    </tr>\n",
              "    <tr>\n",
              "      <th>25</th>\n",
              "      <td>Code review</td>\n",
              "      <td>Ensure your code meets quality standards and s...</td>\n",
              "      <td>https://github.com/topics/code-review</td>\n",
              "    </tr>\n",
              "    <tr>\n",
              "      <th>26</th>\n",
              "      <td>Compiler</td>\n",
              "      <td>Compilers are software that translate higher-l...</td>\n",
              "      <td>https://github.com/topics/compiler</td>\n",
              "    </tr>\n",
              "    <tr>\n",
              "      <th>27</th>\n",
              "      <td>Continuous integration</td>\n",
              "      <td>Automatically build and test your code as you ...</td>\n",
              "      <td>https://github.com/topics/continuous-integration</td>\n",
              "    </tr>\n",
              "    <tr>\n",
              "      <th>28</th>\n",
              "      <td>COVID-19</td>\n",
              "      <td>The coronavirus disease 2019 (COVID-19) is an ...</td>\n",
              "      <td>https://github.com/topics/covid-19</td>\n",
              "    </tr>\n",
              "    <tr>\n",
              "      <th>29</th>\n",
              "      <td>C++</td>\n",
              "      <td>C++ is a general purpose and object-oriented p...</td>\n",
              "      <td>https://github.com/topics/cpp</td>\n",
              "    </tr>\n",
              "  </tbody>\n",
              "</table>\n",
              "</div>"
            ],
            "text/plain": [
              "               Topic Title  ...                                         Topic URL\n",
              "0                       3D  ...                      https://github.com/topics/3d\n",
              "1                     Ajax  ...                    https://github.com/topics/ajax\n",
              "2                Algorithm  ...               https://github.com/topics/algorithm\n",
              "3                      Amp  ...                   https://github.com/topics/amphp\n",
              "4                  Android  ...                 https://github.com/topics/android\n",
              "5                  Angular  ...                 https://github.com/topics/angular\n",
              "6                  Ansible  ...                 https://github.com/topics/ansible\n",
              "7                      API  ...                     https://github.com/topics/api\n",
              "8                  Arduino  ...                 https://github.com/topics/arduino\n",
              "9                  ASP.NET  ...                  https://github.com/topics/aspnet\n",
              "10                    Atom  ...                    https://github.com/topics/atom\n",
              "11           Awesome Lists  ...                 https://github.com/topics/awesome\n",
              "12     Amazon Web Services  ...                     https://github.com/topics/aws\n",
              "13                   Azure  ...                   https://github.com/topics/azure\n",
              "14                   Babel  ...                   https://github.com/topics/babel\n",
              "15                    Bash  ...                    https://github.com/topics/bash\n",
              "16                 Bitcoin  ...                 https://github.com/topics/bitcoin\n",
              "17               Bootstrap  ...               https://github.com/topics/bootstrap\n",
              "18                     Bot  ...                     https://github.com/topics/bot\n",
              "19                       C  ...                       https://github.com/topics/c\n",
              "20                  Chrome  ...                  https://github.com/topics/chrome\n",
              "21        Chrome extension  ...        https://github.com/topics/chrome-extension\n",
              "22  Command line interface  ...                     https://github.com/topics/cli\n",
              "23                 Clojure  ...                 https://github.com/topics/clojure\n",
              "24            Code quality  ...            https://github.com/topics/code-quality\n",
              "25             Code review  ...             https://github.com/topics/code-review\n",
              "26                Compiler  ...                https://github.com/topics/compiler\n",
              "27  Continuous integration  ...  https://github.com/topics/continuous-integration\n",
              "28                COVID-19  ...                https://github.com/topics/covid-19\n",
              "29                     C++  ...                     https://github.com/topics/cpp\n",
              "\n",
              "[30 rows x 3 columns]"
            ]
          },
          "metadata": {},
          "execution_count": 28
        }
      ]
    },
    {
      "cell_type": "code",
      "metadata": {
        "id": "MTuGa3hZ5Xbb"
      },
      "source": [
        "topics_df.to_csv(\"topics.csv\",index=None)"
      ],
      "execution_count": null,
      "outputs": []
    },
    {
      "cell_type": "markdown",
      "metadata": {
        "id": "a8bmSC_e5-QU"
      },
      "source": [
        "##Getting Information from topic's page"
      ]
    },
    {
      "cell_type": "code",
      "metadata": {
        "id": "VBKne08h6DHJ"
      },
      "source": [
        "def parse_star_count(stars_tag):\n",
        "  stars_str=stars_tag.text.strip()\n",
        "  if(stars_str[-1]==\"k\"):\n",
        "    return(int(float(stars_str[:-1])*1000))\n",
        "  return int(stars_str)"
      ],
      "execution_count": null,
      "outputs": []
    },
    {
      "cell_type": "code",
      "metadata": {
        "id": "KgO-wT4MJUpe"
      },
      "source": [
        "def get_repo_info(h1_tag,star_tag):\n",
        "  a_tags=h1_tag.find_all(\"a\")\n",
        "  username=a_tags[0].text.strip()\n",
        "  repo_name=a_tags[1].text.strip()\n",
        "  base_url=\"https://github.com\"\n",
        "  repo_url=base_url+a_tags[1][\"href\"]\n",
        "  stars=parse_star_count(star_tag)\n",
        "  return username,repo_name,repo_url,stars\n",
        "\n",
        "def get_topic_page(topic_url):\n",
        "  #Download page\n",
        "  response=requests.get(topic_url)\n",
        "  #Check for succesfull response\n",
        "  #if response.status_code not in range(200,299):\n",
        "   # raise Exception(\"Failed to load page{}\".format(topic_url))\n",
        "  #Parse using beutifull soup\n",
        "  topic_doc=BeautifulSoup(response.text,\"html.parser\")\n",
        "  return topic_doc\n",
        "\n",
        "def get_topic_repos(topic_doc):\n",
        "  #Get h1 tags for repo title,repo url,repo url\n",
        "  h3_selection_class=\"f3 color-text-secondary text-normal lh-condensed\"\n",
        "  repo_tags=topic_doc.find_all(\"h3\",{\"class\":h3_selection_class})\n",
        "  #Get star count \n",
        "  star_selection_class=\"social-count float-none\"\n",
        "  star_tags=topic_doc.find_all(\"a\",{\"class\":star_selection_class})\n",
        "  #Get repo info\n",
        "  topic_repos_dict={\n",
        "      \"Username\":[],\n",
        "      \"Repo_name\":[],\n",
        "      \"Star_count\":[],\n",
        "      \"Repo_url\":[]\n",
        "  }\n",
        "  for i in range (len(repo_tags)):\n",
        "    repo_info=get_repo_info(repo_tags[i],star_tags[i])\n",
        "    topic_repos_dict[\"Username\"].append(repo_info[0])\n",
        "    topic_repos_dict[\"Repo_name\"].append(repo_info[1])\n",
        "    topic_repos_dict[\"Star_count\"].append(repo_info[3])\n",
        "    topic_repos_dict[\"Repo_url\"].append(repo_info[2])\n",
        "  return pd.DataFrame(topic_repos_dict,index=None)\n",
        "\n",
        "def scrape_topic(topic_url,path):\n",
        "  if os.path.exists(path):\n",
        "    print(\"The file{} already exists.Skipping...\".format(path))\n",
        "    return\n",
        "  topic_df=get_topic_repos(get_topic_page(topic_url))\n",
        "  topic_df.to_csv(path,index=None)"
      ],
      "execution_count": null,
      "outputs": []
    },
    {
      "cell_type": "code",
      "metadata": {
        "colab": {
          "base_uri": "https://localhost:8080/",
          "height": 221
        },
        "id": "KVIznwRyRGNz",
        "outputId": "409c36b4-7cbd-48b5-9547-fd128163898f"
      },
      "source": [
        "topic0=topic_urls[4]\n",
        "topic_doc=get_topic_page(topic0)\n",
        "topic0_df=get_topic_repos(topic_doc)\n",
        "topic0_df\n"
      ],
      "execution_count": null,
      "outputs": [
        {
          "output_type": "error",
          "ename": "NameError",
          "evalue": "ignored",
          "traceback": [
            "\u001b[0;31m---------------------------------------------------------------------------\u001b[0m",
            "\u001b[0;31mNameError\u001b[0m                                 Traceback (most recent call last)",
            "\u001b[0;32m<ipython-input-41-9b33c93086de>\u001b[0m in \u001b[0;36m<module>\u001b[0;34m()\u001b[0m\n\u001b[0;32m----> 1\u001b[0;31m \u001b[0mtopic0\u001b[0m\u001b[0;34m=\u001b[0m\u001b[0mtopic_urls\u001b[0m\u001b[0;34m[\u001b[0m\u001b[0;36m4\u001b[0m\u001b[0;34m]\u001b[0m\u001b[0;34m\u001b[0m\u001b[0;34m\u001b[0m\u001b[0m\n\u001b[0m\u001b[1;32m      2\u001b[0m \u001b[0mtopic_doc\u001b[0m\u001b[0;34m=\u001b[0m\u001b[0mget_topic_page\u001b[0m\u001b[0;34m(\u001b[0m\u001b[0mtopic0\u001b[0m\u001b[0;34m)\u001b[0m\u001b[0;34m\u001b[0m\u001b[0;34m\u001b[0m\u001b[0m\n\u001b[1;32m      3\u001b[0m \u001b[0mtopic0_df\u001b[0m\u001b[0;34m=\u001b[0m\u001b[0mget_topic_repos\u001b[0m\u001b[0;34m(\u001b[0m\u001b[0mtopic_doc\u001b[0m\u001b[0;34m)\u001b[0m\u001b[0;34m\u001b[0m\u001b[0;34m\u001b[0m\u001b[0m\n\u001b[1;32m      4\u001b[0m \u001b[0mtopic0_df\u001b[0m\u001b[0;34m\u001b[0m\u001b[0;34m\u001b[0m\u001b[0m\n",
            "\u001b[0;31mNameError\u001b[0m: name 'topic_urls' is not defined"
          ]
        }
      ]
    },
    {
      "cell_type": "code",
      "metadata": {
        "id": "j5Dw3FCuecho"
      },
      "source": [
        "def get_topic_name(doc):\n",
        "  selection_class=\"f3 lh-condensed mb-0 mt-1 Link--primary\"\n",
        "  topic_title_p_tags=doc.find_all(\"p\",{\"class\":selection_class})\n",
        "  topic_titles=[]\n",
        "  for tag in topic_title_p_tags:\n",
        "    topic_titles.append(tag.text)\n",
        "  return topic_titles\n",
        "def get_topic_desc(doc):\n",
        "  desc_selection_class=\"f5 color-text-secondary mb-0 mt-1\"\n",
        "  topic_desc_tags=doc.find_all(\"p\",{\"class\":desc_selection_class})\n",
        "  topic_descriptions=[]\n",
        "  for tag in topic_desc_tags:\n",
        "    topic_descriptions.append(tag.text.strip())\n",
        "  return topic_descriptions\n",
        "def get_topic_urls(doc):\n",
        "  url_selection_class=\"d-flex no-underline\"\n",
        "  topic_link_tags=doc.find_all(\"a\",{\"class\":url_selection_class})\n",
        "  topic_urls=[]\n",
        "  base_url=\"https://github.com\"\n",
        "  for tag in topic_link_tags:\n",
        "    topic_urls.append(base_url+tag[\"href\"])\n",
        "  return topic_urls\n",
        "\n",
        "def scrape_topics(topics_url):   \n",
        "  response=requests.get(topics_url)\n",
        "  if response.status_code not in range(200,299):\n",
        "    raise Exception(\"Failed to load page{}\".format(topics_url))\n",
        "  page_contents=response.text\n",
        "  doc=BeautifulSoup(page_contents,\"html.parser\")\n",
        "  topics_dict={\"Topic Title\":get_topic_name(doc),\n",
        "             \"Topic Description\":get_topic_desc(doc),\n",
        "             \"Topic URL\":get_topic_urls(doc)}\n",
        "  return pd.DataFrame(topics_dict)"
      ],
      "execution_count": null,
      "outputs": []
    },
    {
      "cell_type": "markdown",
      "metadata": {
        "id": "tAoz9SQTxkUd"
      },
      "source": [
        "##Final Code"
      ]
    },
    {
      "cell_type": "code",
      "metadata": {
        "id": "_0NF0cD2UijZ"
      },
      "source": [
        "def scrape_topics_repos(topic_url):\n",
        "  print(\"Scraping list of topics from github\")\n",
        "  topics_df=scrape_topics(topic_url)\n",
        "  os.makedirs(\"data\",exist_ok=True)\n",
        "  for index,topic in topics_df.iterrows():\n",
        "    print('Scraping Top repositories for the \"{}\"'.format(topic[\"Topic Title\"]))\n",
        "    scrape_topic(topic[\"Topic URL\"],\"data/{}.csv\".format(topic[\"Topic Title\"]))"
      ],
      "execution_count": null,
      "outputs": []
    },
    {
      "cell_type": "code",
      "metadata": {
        "colab": {
          "base_uri": "https://localhost:8080/"
        },
        "id": "TiY4cBWNpNuF",
        "outputId": "19605a57-02ac-4afa-c14a-cdee6d03475f"
      },
      "source": [
        "scrape_topics_repos(\"https://github.com/topics?page=5\")"
      ],
      "execution_count": null,
      "outputs": [
        {
          "output_type": "stream",
          "name": "stdout",
          "text": [
            "Scraping list of topics from github\n",
            "Scraping Top repositories for the \"Phaser\"\n",
            "Scraping Top repositories for the \"PHP\"\n",
            "Scraping Top repositories for the \"PICO-8\"\n",
            "Scraping Top repositories for the \"Pixel Art\"\n",
            "Scraping Top repositories for the \"PostgreSQL\"\n",
            "Scraping Top repositories for the \"Project management\"\n",
            "Scraping Top repositories for the \"Publishing\"\n",
            "Scraping Top repositories for the \"PWA\"\n",
            "Scraping Top repositories for the \"Python\"\n",
            "Scraping Top repositories for the \"Qt\"\n",
            "Scraping Top repositories for the \"R\"\n",
            "Scraping Top repositories for the \"Rails\"\n",
            "Scraping Top repositories for the \"Raspberry Pi\"\n",
            "Scraping Top repositories for the \"Ratchet\"\n",
            "Scraping Top repositories for the \"React\"\n",
            "Scraping Top repositories for the \"React Native\"\n",
            "Scraping Top repositories for the \"ReactiveUI\"\n",
            "Scraping Top repositories for the \"Redux\"\n",
            "Scraping Top repositories for the \"REST API\"\n",
            "Scraping Top repositories for the \"Ruby\"\n",
            "Scraping Top repositories for the \"Rust\"\n",
            "Scraping Top repositories for the \"Sass\"\n",
            "Scraping Top repositories for the \"Scala\"\n",
            "Scraping Top repositories for the \"scikit-learn\"\n",
            "Scraping Top repositories for the \"Software-defined networking\"\n",
            "Scraping Top repositories for the \"Security\"\n",
            "Scraping Top repositories for the \"Server\"\n",
            "Scraping Top repositories for the \"Serverless\"\n",
            "Scraping Top repositories for the \"Shell\"\n",
            "Scraping Top repositories for the \"Sketch\"\n"
          ]
        }
      ]
    }
  ]
}